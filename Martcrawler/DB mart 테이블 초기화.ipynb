{
 "cells": [
  {
   "cell_type": "code",
   "execution_count": 1,
   "id": "ef8715c7",
   "metadata": {},
   "outputs": [],
   "source": [
    "import pymysql"
   ]
  },
  {
   "cell_type": "markdown",
   "id": "9ea0164c",
   "metadata": {},
   "source": [
    "## DB mart 테이블 초기화"
   ]
  },
  {
   "cell_type": "code",
   "execution_count": 2,
   "id": "b3b62db0",
   "metadata": {},
   "outputs": [],
   "source": [
    "def db_connect():\n",
    "    conn = pymysql.connect(host='j7c205.p.ssafy.io', user='ssafy', password='jaranda', db='ssafy', charset='utf8')\n",
    "    return conn"
   ]
  },
  {
   "cell_type": "code",
   "execution_count": 3,
   "id": "17bdb8ba",
   "metadata": {},
   "outputs": [],
   "source": [
    "def mart_init(conn):\n",
    "    f = open(\"./txt/ingredient_tab.txt\", 'r', encoding='utf8')\n",
    "\n",
    "    while True:\n",
    "        line = f.readline()\n",
    "        if not line: break\n",
    "        data = line.split(\"\\t\")\n",
    "        if data[-1] == '\\\\N\\n':\n",
    "            mart_insert(conn, data[0], data[3])\n",
    "    f.close()"
   ]
  },
  {
   "cell_type": "code",
   "execution_count": 4,
   "id": "235cee5a",
   "metadata": {},
   "outputs": [],
   "source": [
    "def mart_insert(conn, ingredient_id, ingredient_name):\n",
    "    cur = conn.cursor()\n",
    "    \n",
    "    for i in range(3):\n",
    "        sql = \"INSERT INTO mart (ingredient_id, ingredient_name, item_no, mart) VALUES(\"+ingredient_id+\",'\"+ingredient_name+\"',\"+str(i+1)+\",1)\"\n",
    "        cur.execute(sql)\n",
    "    \n",
    "    conn.commit()"
   ]
  },
  {
   "cell_type": "code",
   "execution_count": null,
   "id": "85961b43",
   "metadata": {},
   "outputs": [],
   "source": [
    "if __name__ == '__main__':\n",
    "    conn = db_connect()\n",
    "    mart_init(conn)\n",
    "    conn.close()"
   ]
  }
 ],
 "metadata": {
  "kernelspec": {
   "display_name": "Python 3 (ipykernel)",
   "language": "python",
   "name": "python3"
  },
  "language_info": {
   "codemirror_mode": {
    "name": "ipython",
    "version": 3
   },
   "file_extension": ".py",
   "mimetype": "text/x-python",
   "name": "python",
   "nbconvert_exporter": "python",
   "pygments_lexer": "ipython3",
   "version": "3.9.12"
  }
 },
 "nbformat": 4,
 "nbformat_minor": 5
}
